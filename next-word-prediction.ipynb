{
  "cells": [
    {
      "cell_type": "markdown",
      "metadata": {
        "id": "view-in-github",
        "colab_type": "text"
      },
      "source": [
        "<a href=\"https://colab.research.google.com/github/CheimaHMM/NLP/blob/main/next-word-prediction.ipynb\" target=\"_parent\"><img src=\"https://colab.research.google.com/assets/colab-badge.svg\" alt=\"Open In Colab\"/></a>"
      ]
    },
    {
      "cell_type": "markdown",
      "source": [
        "This notebook is about predicting the next word after a sequence of words that needed improvement.\n",
        "We initially experimented with an `LSTM` model, which was evidently overfitting, resulting in a very low test accuracy.\n",
        "As an improvement, we proposed to fine-tune `BERT` and `GPT-2` models.\n",
        "\n"
      ],
      "metadata": {
        "id": "q7U10FVPKluu"
      }
    },
    {
      "cell_type": "markdown",
      "source": [
        "## **Imports**\n"
      ],
      "metadata": {
        "id": "P42H3-tS6uUh"
      }
    },
    {
      "cell_type": "code",
      "source": [
        "pip install transformers"
      ],
      "metadata": {
        "colab": {
          "base_uri": "https://localhost:8080/"
        },
        "id": "gQ0ycKRXxWmm",
        "outputId": "0e8c8831-48bc-4d94-ec78-b6f035cd778e"
      },
      "execution_count": null,
      "outputs": [
        {
          "output_type": "stream",
          "name": "stdout",
          "text": [
            "Requirement already satisfied: transformers in /usr/local/lib/python3.10/dist-packages (4.33.2)\n",
            "Requirement already satisfied: filelock in /usr/local/lib/python3.10/dist-packages (from transformers) (3.12.2)\n",
            "Requirement already satisfied: huggingface-hub<1.0,>=0.15.1 in /usr/local/lib/python3.10/dist-packages (from transformers) (0.17.2)\n",
            "Requirement already satisfied: numpy>=1.17 in /usr/local/lib/python3.10/dist-packages (from transformers) (1.23.5)\n",
            "Requirement already satisfied: packaging>=20.0 in /usr/local/lib/python3.10/dist-packages (from transformers) (23.1)\n",
            "Requirement already satisfied: pyyaml>=5.1 in /usr/local/lib/python3.10/dist-packages (from transformers) (6.0.1)\n",
            "Requirement already satisfied: regex!=2019.12.17 in /usr/local/lib/python3.10/dist-packages (from transformers) (2023.6.3)\n",
            "Requirement already satisfied: requests in /usr/local/lib/python3.10/dist-packages (from transformers) (2.31.0)\n",
            "Requirement already satisfied: tokenizers!=0.11.3,<0.14,>=0.11.1 in /usr/local/lib/python3.10/dist-packages (from transformers) (0.13.3)\n",
            "Requirement already satisfied: safetensors>=0.3.1 in /usr/local/lib/python3.10/dist-packages (from transformers) (0.3.3)\n",
            "Requirement already satisfied: tqdm>=4.27 in /usr/local/lib/python3.10/dist-packages (from transformers) (4.66.1)\n",
            "Requirement already satisfied: fsspec in /usr/local/lib/python3.10/dist-packages (from huggingface-hub<1.0,>=0.15.1->transformers) (2023.6.0)\n",
            "Requirement already satisfied: typing-extensions>=3.7.4.3 in /usr/local/lib/python3.10/dist-packages (from huggingface-hub<1.0,>=0.15.1->transformers) (4.5.0)\n",
            "Requirement already satisfied: charset-normalizer<4,>=2 in /usr/local/lib/python3.10/dist-packages (from requests->transformers) (3.2.0)\n",
            "Requirement already satisfied: idna<4,>=2.5 in /usr/local/lib/python3.10/dist-packages (from requests->transformers) (3.4)\n",
            "Requirement already satisfied: urllib3<3,>=1.21.1 in /usr/local/lib/python3.10/dist-packages (from requests->transformers) (2.0.4)\n",
            "Requirement already satisfied: certifi>=2017.4.17 in /usr/local/lib/python3.10/dist-packages (from requests->transformers) (2023.7.22)\n"
          ]
        }
      ]
    },
    {
      "cell_type": "code",
      "source": [
        "import matplotlib.pyplot as plt"
      ],
      "metadata": {
        "id": "ebjRG5TkHYO9"
      },
      "execution_count": null,
      "outputs": []
    },
    {
      "cell_type": "code",
      "source": [
        "import numpy as np\n",
        "import pandas as pd"
      ],
      "metadata": {
        "id": "8UXn_C-K905R"
      },
      "execution_count": null,
      "outputs": []
    },
    {
      "cell_type": "code",
      "source": [
        "from nltk.tokenize import RegexpTokenizer"
      ],
      "metadata": {
        "id": "yBqY0cGH9wPt"
      },
      "execution_count": null,
      "outputs": []
    },
    {
      "cell_type": "code",
      "source": [
        "from keras.models import Sequential\n",
        "from keras.layers import  Dense, Activation, LSTM\n",
        "from keras.optimizers import Adam"
      ],
      "metadata": {
        "id": "pL9CfOFe99ER"
      },
      "execution_count": null,
      "outputs": []
    },
    {
      "cell_type": "code",
      "source": [
        "import torch"
      ],
      "metadata": {
        "id": "kE9MzebUKFGx"
      },
      "execution_count": null,
      "outputs": []
    },
    {
      "cell_type": "code",
      "source": [
        "import tensorflow as tf\n",
        "from transformers import BertTokenizer, BertForMaskedLM, AdamW, TFBertForMaskedLM"
      ],
      "metadata": {
        "id": "CtCDS56i60E0"
      },
      "execution_count": null,
      "outputs": []
    },
    {
      "cell_type": "code",
      "source": [
        "import torch\n",
        "from transformers import GPT2Tokenizer, GPT2LMHeadModel, AdamW, get_linear_schedule_with_warmup\n",
        "from torch.utils.data import Dataset, DataLoader\n",
        "import random\n",
        "import math"
      ],
      "metadata": {
        "id": "wmm68YoBDce0"
      },
      "execution_count": null,
      "outputs": []
    },
    {
      "cell_type": "markdown",
      "source": [
        "## **Modeling**"
      ],
      "metadata": {
        "id": "EJHiwiIo8zFL"
      }
    },
    {
      "cell_type": "markdown",
      "source": [
        "**LSTM**"
      ],
      "metadata": {
        "id": "PhSzazzo82cx"
      }
    },
    {
      "cell_type": "markdown",
      "source": [
        "**Data preparation**"
      ],
      "metadata": {
        "id": "c5CtFrN78ChL"
      }
    },
    {
      "cell_type": "code",
      "source": [
        "path = '/content/1661-0.txt'\n",
        "text = open(path).read().lower()"
      ],
      "metadata": {
        "id": "SrP0XFQPC_aQ"
      },
      "execution_count": null,
      "outputs": []
    },
    {
      "cell_type": "code",
      "execution_count": null,
      "metadata": {
        "id": "G7IGkKD9rd-I"
      },
      "outputs": [],
      "source": [
        "tokenizer = RegexpTokenizer(r'\\w+')\n",
        "words = tokenizer.tokenize(text)"
      ]
    },
    {
      "cell_type": "code",
      "source": [
        "unique_words = np.unique(words)\n",
        "unique_word_index = dict((c, i) for i, c in enumerate(unique_words))"
      ],
      "metadata": {
        "id": "u386zB9i8xha"
      },
      "execution_count": null,
      "outputs": []
    },
    {
      "cell_type": "code",
      "source": [
        "num_words = 5\n",
        "prev_words = []\n",
        "next_words = []\n",
        "for i in range(len(words) - num_words):\n",
        "    prev_words.append(words[i:i + num_words])\n",
        "    next_words.append(words[i + num_words])"
      ],
      "metadata": {
        "id": "V83mFLRx9HBk"
      },
      "execution_count": null,
      "outputs": []
    },
    {
      "cell_type": "code",
      "source": [
        "X = np.zeros((len(prev_words), num_words, len(unique_words)), dtype=bool)\n",
        "Y = np.zeros((len(next_words), len(unique_words)), dtype=bool)\n",
        "for i, each_words in enumerate(prev_words):\n",
        "    for j, each_word in enumerate(each_words):\n",
        "        X[i, j, unique_word_index[each_word]] = 1\n",
        "    Y[i, unique_word_index[next_words[i]]] = 1"
      ],
      "metadata": {
        "id": "SXUzwG4N9rKu"
      },
      "execution_count": null,
      "outputs": []
    },
    {
      "cell_type": "code",
      "source": [
        "model_LSTM = Sequential()\n",
        "model_LSTM.add(LSTM(128, input_shape=(num_words, len(unique_words)),return_sequences=True))\n",
        "model_LSTM.add(LSTM(128, return_sequences=False))\n",
        "model_LSTM.add(Dense(len(unique_words)))\n",
        "model_LSTM.add(Activation('softmax'))"
      ],
      "metadata": {
        "id": "BDzgp1zB9czZ"
      },
      "execution_count": null,
      "outputs": []
    },
    {
      "cell_type": "code",
      "source": [
        "optimizer = Adam(learning_rate=0.01)\n",
        "model_LSTM.compile(loss='categorical_crossentropy', optimizer=optimizer, metrics=['accuracy'])"
      ],
      "metadata": {
        "id": "8RNT6Rdm-pHZ"
      },
      "execution_count": null,
      "outputs": []
    },
    {
      "cell_type": "code",
      "source": [
        "history_LSTM = model_LSTM.fit(X, Y, validation_split=0.3, batch_size=128, epochs=10, shuffle=True).history"
      ],
      "metadata": {
        "colab": {
          "base_uri": "https://localhost:8080/"
        },
        "id": "PRbg3vos-6I4",
        "outputId": "ec1e139f-9510-40fc-c145-9dd1b5f03474"
      },
      "execution_count": null,
      "outputs": [
        {
          "output_type": "stream",
          "name": "stdout",
          "text": [
            "Epoch 1/10\n",
            "598/598 [==============================] - 29s 33ms/step - loss: 6.4130 - accuracy: 0.0658 - val_loss: 6.2543 - val_accuracy: 0.0833\n",
            "Epoch 2/10\n",
            "598/598 [==============================] - 16s 27ms/step - loss: 5.6741 - accuracy: 0.1088 - val_loss: 6.0993 - val_accuracy: 0.1132\n",
            "Epoch 3/10\n",
            "598/598 [==============================] - 14s 23ms/step - loss: 5.2214 - accuracy: 0.1378 - val_loss: 6.1064 - val_accuracy: 0.1163\n",
            "Epoch 4/10\n",
            "598/598 [==============================] - 14s 23ms/step - loss: 4.7350 - accuracy: 0.1710 - val_loss: 6.3511 - val_accuracy: 0.1147\n",
            "Epoch 5/10\n",
            "598/598 [==============================] - 14s 23ms/step - loss: 4.1813 - accuracy: 0.2183 - val_loss: 6.7962 - val_accuracy: 0.1075\n",
            "Epoch 6/10\n",
            "598/598 [==============================] - 16s 26ms/step - loss: 3.5761 - accuracy: 0.2836 - val_loss: 7.3237 - val_accuracy: 0.0959\n",
            "Epoch 7/10\n",
            "598/598 [==============================] - 14s 23ms/step - loss: 2.9500 - accuracy: 0.3741 - val_loss: 7.8526 - val_accuracy: 0.0869\n",
            "Epoch 8/10\n",
            "598/598 [==============================] - 14s 23ms/step - loss: 2.3476 - accuracy: 0.4796 - val_loss: 8.6517 - val_accuracy: 0.0798\n",
            "Epoch 9/10\n",
            "598/598 [==============================] - 16s 26ms/step - loss: 1.8208 - accuracy: 0.5886 - val_loss: 9.2385 - val_accuracy: 0.0750\n",
            "Epoch 10/10\n",
            "598/598 [==============================] - 14s 23ms/step - loss: 1.4026 - accuracy: 0.6775 - val_loss: 9.9397 - val_accuracy: 0.0738\n"
          ]
        }
      ]
    },
    {
      "cell_type": "code",
      "source": [
        "plt.plot(history_LSTM['accuracy'])\n",
        "plt.plot(history_LSTM['val_accuracy'])\n",
        "plt.title('model accuracy')\n",
        "plt.ylabel('accuracy')\n",
        "plt.xlabel('epoch')\n",
        "plt.legend(['train', 'test'], loc='upper left')\n",
        "plt.show()\n",
        "\n",
        "plt.plot(history_LSTM['loss'])\n",
        "plt.plot(history_LSTM['val_loss'])\n",
        "plt.title('model loss')\n",
        "plt.ylabel('loss')\n",
        "plt.xlabel('epoch')\n",
        "plt.legend(['train', 'test'], loc='upper left')\n",
        "plt.show()"
      ],
      "metadata": {
        "colab": {
          "base_uri": "https://localhost:8080/",
          "height": 927
        },
        "id": "_C27CnI5HQuk",
        "outputId": "fcbe973b-f668-4919-a153-6e2eca809873"
      },
      "execution_count": null,
      "outputs": [
        {
          "output_type": "display_data",
          "data": {
            "text/plain": [
              "<Figure size 640x480 with 1 Axes>"
            ],
            "image/png": "[encoded data removed]"
          },
          "metadata": {}
        },
        {
          "output_type": "display_data",
          "data": {
            "text/plain": [
              "<Figure size 640x480 with 1 Axes>"
            ],
            "image/png": "[encoded data removed]"
          },
          "metadata": {}
        }
      ]
    },
    {
      "cell_type": "markdown",
      "source": [
        "**Fine-tuning BERT**"
      ],
      "metadata": {
        "id": "bwJJUTWV-LC4"
      }
    },
    {
      "cell_type": "markdown",
      "source": [
        "**Fine-tuning GPT-2**"
      ],
      "metadata": {
        "id": "mhWCkIbbJOxM"
      }
    },
    {
      "cell_type": "code",
      "source": [
        "# Define a custom dataset for text generation\n",
        "class TextGenerationDataset(Dataset):\n",
        "    def __init__(self, texts, tokenizer, max_length=128):\n",
        "        self.texts = texts\n",
        "        self.tokenizer = tokenizer\n",
        "        self.max_length = max_length\n",
        "\n",
        "    def __len__(self):\n",
        "        return len(self.texts)\n",
        "\n",
        "    def __getitem__(self, idx):\n",
        "        text = self.texts[idx]\n",
        "        inputs = self.tokenizer(text, return_tensors='pt', max_length=self.max_length, padding='max_length', truncation=True)\n",
        "        return inputs\n",
        "\n",
        "\n",
        "# Initialize the tokenizer and model\n",
        "tokenizer = GPT2Tokenizer.from_pretrained('gpt2')\n",
        "# Add a padding token to the tokenizer\n",
        "tokenizer.pad_token = tokenizer.eos_token\n",
        "\n",
        "model = GPT2LMHeadModel.from_pretrained('gpt2')\n",
        "\n",
        "# Tokenize the full text data\n",
        "text_tokens = tokenizer.tokenize(text)\n",
        "\n",
        "# Split the tokens into training and test sets\n",
        "split_ratio = 0.8  # Adjust this ratio as needed\n",
        "random.shuffle(text_tokens)\n",
        "\n",
        "split_index = int(len(text_tokens) * split_ratio)\n",
        "training_tokens = text_tokens[:split_index]\n",
        "test_tokens = text_tokens[split_index:]\n",
        "\n",
        "# Convert tokens back to text for training and test\n",
        "training_data = tokenizer.convert_tokens_to_string(training_tokens)\n",
        "test_data = tokenizer.convert_tokens_to_string(test_tokens)\n",
        "\n",
        "# Create datasets and dataloaders for training and test data\n",
        "train_dataset = TextGenerationDataset([training_data], tokenizer)\n",
        "test_dataset = TextGenerationDataset([test_data], tokenizer)\n",
        "\n",
        "train_dataloader = DataLoader(train_dataset, batch_size=4, shuffle=True)\n",
        "test_dataloader = DataLoader(test_dataset, batch_size=4, shuffle=False)\n",
        "\n",
        "# Define optimizer and learning rate scheduler\n",
        "optimizer = AdamW(model.parameters(), lr=1e-5)\n",
        "scheduler = get_linear_schedule_with_warmup(optimizer, num_warmup_steps=100, num_training_steps=len(train_dataloader) * 10)\n",
        "\n",
        "# Training loop\n",
        "model.train()\n",
        "epochs = 10\n",
        "for epoch in range(epochs):\n",
        "    total_loss = 0.0\n",
        "    for batch in train_dataloader:\n",
        "        inputs = batch['input_ids']\n",
        "        optimizer.zero_grad()\n",
        "        outputs = model(inputs, labels=inputs)\n",
        "        loss = outputs.loss\n",
        "        loss.backward()\n",
        "        optimizer.step()\n",
        "        scheduler.step()\n",
        "        total_loss += loss.item()\n",
        "    average_loss = total_loss / len(train_dataloader)\n",
        "    print(f\"Epoch {epoch+1}/{epochs}, Average Loss: {average_loss}\")\n",
        "\n",
        "# Evaluation on the test data and calculation of perplexity\n",
        "model.eval()\n",
        "total_test_loss = 0.0\n",
        "with torch.no_grad():\n",
        "    for batch in test_dataloader:\n",
        "        inputs = batch['input_ids']\n",
        "        outputs = model(inputs, labels=inputs)\n",
        "        loss = outputs.loss\n",
        "        total_test_loss += loss.item()\n",
        "\n",
        "average_test_loss = total_test_loss / len(test_dataloader)\n",
        "test_perplexity = math.exp(average_test_loss)\n",
        "print(f\"Test Perplexity: {test_perplexity}\")\n",
        "\n",
        "# Now, you can generate text using the fine-tuned GPT-2 model.\n"
      ],
      "metadata": {
        "colab": {
          "base_uri": "https://localhost:8080/"
        },
        "id": "6AYDHAmrJSfM",
        "outputId": "446e07c4-8da6-419d-bb8e-9c4523910bf4"
      },
      "execution_count": null,
      "outputs": [
        {
          "output_type": "stream",
          "name": "stderr",
          "text": [
            "/usr/local/lib/python3.10/dist-packages/transformers/optimization.py:411: FutureWarning: This implementation of AdamW is deprecated and will be removed in a future version. Use the PyTorch implementation torch.optim.AdamW instead, or set `no_deprecation_warning=True` to disable this warning\n",
            "  warnings.warn(\n"
          ]
        },
        {
          "output_type": "stream",
          "name": "stdout",
          "text": [
            "Epoch 1/10, Average Loss: 7.931758880615234\n",
            "Epoch 2/10, Average Loss: 7.913687229156494\n",
            "Epoch 3/10, Average Loss: 7.707250118255615\n",
            "Epoch 4/10, Average Loss: 7.7822771072387695\n",
            "Epoch 5/10, Average Loss: 7.99185848236084\n",
            "Epoch 6/10, Average Loss: 7.629101276397705\n",
            "Epoch 7/10, Average Loss: 7.721099376678467\n",
            "Epoch 8/10, Average Loss: 7.693967819213867\n",
            "Epoch 9/10, Average Loss: 7.98684024810791\n",
            "Epoch 10/10, Average Loss: 7.76936149597168\n",
            "Test Perplexity: 1680.2217230879783\n"
          ]
        }
      ]
    },
    {
      "cell_type": "code",
      "source": [
        "import torch\n",
        "from transformers import BertTokenizer, BertForMaskedLM, AdamW\n",
        "\n",
        "# Load pre-trained BERT model and tokenizer\n",
        "model_name = \"bert-base-uncased\"\n",
        "tokenizer = BertTokenizer.from_pretrained(model_name)\n",
        "model = BertForMaskedLM.from_pretrained(model_name)\n",
        "\n",
        "tokens = tokenizer.tokenize(text)\n",
        "num_words = 6  # Adjust this to your desired sequence length\n",
        "\n",
        "# Ensure that the sequence length is at least 6\n",
        "if len(tokens) < num_words:\n",
        "    raise ValueError(\"Input text is too short for the specified sequence length.\")\n",
        "\n",
        "# Take the last 6 tokens for training\n",
        "input_tokens = tokens[-num_words:]\n",
        "\n",
        "# Mask the last token for prediction\n",
        "masked_tokens = input_tokens.copy()\n",
        "masked_tokens[-1] = \"[MASK]\"\n",
        "\n",
        "# Convert tokens to input IDs\n",
        "input_ids = tokenizer.convert_tokens_to_ids(input_tokens)\n",
        "masked_input_ids = tokenizer.convert_tokens_to_ids(masked_tokens)\n",
        "\n",
        "# Create attention masks\n",
        "attention_mask = [1] * len(input_ids)\n",
        "\n",
        "# Convert to PyTorch tensors\n",
        "input_ids = torch.tensor([input_ids])\n",
        "masked_input_ids = torch.tensor([masked_input_ids])\n",
        "attention_mask = torch.tensor([attention_mask])\n",
        "\n",
        "# Define optimizer\n",
        "optimizer = AdamW(model.parameters(), lr=1e-5)\n",
        "\n",
        "# Split data into train and test sets (assuming you have separate train and test data)\n",
        "train_ratio = 0.8\n",
        "split_index = int(input_ids.size(1) * train_ratio)\n",
        "\n",
        "train_input_ids = input_ids[:, :split_index]\n",
        "train_masked_input_ids = masked_input_ids[:, :split_index]\n",
        "train_attention_mask = attention_mask[:, :split_index]\n",
        "\n",
        "test_input_ids = input_ids[:, split_index:]\n",
        "test_masked_input_ids = masked_input_ids[:, split_index:]\n",
        "test_attention_mask = attention_mask[:, split_index:]\n",
        "\n",
        "# Training loop\n",
        "model.train()\n",
        "epochs = 10\n",
        "for epoch in range(epochs):\n",
        "    optimizer.zero_grad()\n",
        "    outputs = model(input_ids=train_masked_input_ids, attention_mask=train_attention_mask, labels=train_input_ids)\n",
        "    loss = outputs.loss\n",
        "    loss.backward()\n",
        "    optimizer.step()\n",
        "    print(f\"Epoch {epoch+1}/{epochs}, Loss: {loss.item()}\")\n",
        "\n",
        "    # Evaluation during training\n",
        "    model.eval()\n",
        "    with torch.no_grad():\n",
        "        test_outputs = model(input_ids=test_masked_input_ids, attention_mask=test_attention_mask, labels=test_input_ids)\n",
        "        test_loss = test_outputs.loss\n",
        "\n",
        "        # Compute accuracy on the test set\n",
        "        predicted_next_words = torch.argmax(test_outputs.logits, dim=-1)\n",
        "        correct_predictions = (predicted_next_words == test_input_ids).sum().item()\n",
        "        total_predictions = test_input_ids.numel()\n",
        "        test_accuracy = correct_predictions / total_predictions\n",
        "\n",
        "    print(f\"Test Loss: {test_loss.item()}, Test Accuracy: {test_accuracy}\")"
      ],
      "metadata": {
        "id": "wnA68BR--2yt",
        "colab": {
          "base_uri": "https://localhost:8080/"
        },
        "outputId": "834bd997-2718-43aa-becc-5cbcc7f99892"
      },
      "execution_count": null,
      "outputs": [
        {
          "output_type": "stream",
          "name": "stderr",
          "text": [
            "Some weights of the model checkpoint at bert-base-uncased were not used when initializing BertForMaskedLM: ['bert.pooler.dense.weight', 'cls.seq_relationship.bias', 'cls.seq_relationship.weight', 'bert.pooler.dense.bias']\n",
            "- This IS expected if you are initializing BertForMaskedLM from the checkpoint of a model trained on another task or with another architecture (e.g. initializing a BertForSequenceClassification model from a BertForPreTraining model).\n",
            "- This IS NOT expected if you are initializing BertForMaskedLM from the checkpoint of a model that you expect to be exactly identical (initializing a BertForSequenceClassification model from a BertForSequenceClassification model).\n"
          ]
        },
        {
          "output_type": "stream",
          "name": "stdout",
          "text": [
            "Epoch 1/10, Loss: 7.6700215339660645\n",
            "Test Loss: 4.861018180847168, Test Accuracy: 0.0\n",
            "Epoch 2/10, Loss: 3.793754816055298\n",
            "Test Loss: 4.884317398071289, Test Accuracy: 0.0\n",
            "Epoch 3/10, Loss: 2.257817029953003\n",
            "Test Loss: 4.869543552398682, Test Accuracy: 0.0\n",
            "Epoch 4/10, Loss: 1.011042594909668\n",
            "Test Loss: 4.8598175048828125, Test Accuracy: 0.0\n",
            "Epoch 5/10, Loss: 0.2049376368522644\n",
            "Test Loss: 4.851819038391113, Test Accuracy: 0.0\n",
            "Epoch 6/10, Loss: 0.04772527143359184\n",
            "Test Loss: 4.8455963134765625, Test Accuracy: 0.0\n",
            "Epoch 7/10, Loss: 0.02266746386885643\n",
            "Test Loss: 4.840639591217041, Test Accuracy: 0.0\n",
            "Epoch 8/10, Loss: 0.012980755418539047\n",
            "Test Loss: 4.836677074432373, Test Accuracy: 0.0\n",
            "Epoch 9/10, Loss: 0.008243683725595474\n",
            "Test Loss: 4.833521366119385, Test Accuracy: 0.0\n",
            "Epoch 10/10, Loss: 0.005696252454072237\n",
            "Test Loss: 4.83103084564209, Test Accuracy: 0.0\n"
          ]
        }
      ]
    }
  ],
  "metadata": {
    "accelerator": "GPU",
    "colab": {
      "provenance": [],
      "include_colab_link": true
    },
    "kernelspec": {
      "display_name": "Python 3",
      "name": "python3"
    },
    "language_info": {
      "name": "python"
    }
  },
  "nbformat": 4,
  "nbformat_minor": 0
}